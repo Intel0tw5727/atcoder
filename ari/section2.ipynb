{
 "cells": [
  {
   "cell_type": "markdown",
   "metadata": {},
   "source": [
    "# 2章:基礎からスタート！\n",
    "このノートブックはatcoderで使用されている環境と同等の環境で実施するものとします。(Python 3.8.2)\n",
    "## 全探索"
   ]
  },
  {
   "cell_type": "markdown",
   "metadata": {},
   "source": [
    "### 再帰関数\n",
    "フィボナッチ数列を計算するコード\n",
    "\n",
    "$a_0=0, a_1=1, a_n = a_{n-1} + a_{n-2} (n>1)$"
   ]
  },
  {
   "cell_type": "code",
   "execution_count": 4,
   "metadata": {},
   "outputs": [
    {
     "data": {
      "text/plain": [
       "5"
      ]
     },
     "execution_count": 4,
     "metadata": {},
     "output_type": "execute_result"
    }
   ],
   "source": [
    "def fib(n):\n",
    "    if (n <= 1): return n\n",
    "    return fib(n-1) + fib(n-2)\n",
    "\n",
    "fib(5) # n > 40だと激遅い"
   ]
  },
  {
   "cell_type": "code",
   "execution_count": 7,
   "metadata": {},
   "outputs": [
    {
     "name": "stdout",
     "output_type": "stream",
     "text": [
      "[0, 0, 1, 2, 3, 5, 8, 13, 21, 34, 55, 89, 144, 233, 377, 610, 987, 1597, 2584, 4181, 6765, 10946, 17711, 28657, 46368, 75025, 121393, 196418, 317811, 514229, 832040, 1346269, 2178309, 3524578, 5702887, 9227465, 14930352, 24157817, 39088169, 63245986, 102334155]\n"
     ]
    }
   ],
   "source": [
    "# nが小さい場合の呼び出しを高速化する\n",
    "lut = [0] * (40 + 1)\n",
    "\n",
    "def fib(n):\n",
    "    if (n <= 1): return n\n",
    "    if (lut[n] != 0): return lut[n]\n",
    "    lut[n] = fib(n-1) + fib(n-2)\n",
    "    return fib(n-1) + fib(n-2)\n",
    "\n",
    "fib(40)\n",
    "print(lut)"
   ]
  },
  {
   "cell_type": "markdown",
   "metadata": {},
   "source": [
    "### スタックとキュー"
   ]
  },
  {
   "cell_type": "code",
   "execution_count": 11,
   "metadata": {},
   "outputs": [
    {
     "name": "stdout",
     "output_type": "stream",
     "text": [
      "stack operation\n",
      "3\n",
      "2\n",
      "1\n",
      "que operation\n",
      "1\n",
      "2\n",
      "3\n"
     ]
    }
   ],
   "source": [
    "# python なら collections ライブラリに deque がある\n",
    "from collections import deque\n",
    "\n",
    "stack = deque([])\n",
    "\n",
    "# スタック挙動(右から追加して右から取り出す)\n",
    "print('stack operation')\n",
    "stack.append(1)\n",
    "stack.append(2)\n",
    "stack.append(3)\n",
    "print(stack.pop())\n",
    "print(stack.pop())\n",
    "print(stack.pop())\n",
    "\n",
    "# キュー挙動(左から追加して右から取り出す)\n",
    "print('que operation')\n",
    "stack.appendleft(1)\n",
    "stack.appendleft(2)\n",
    "stack.appendleft(3)\n",
    "print(stack.pop())\n",
    "print(stack.pop())\n",
    "print(stack.pop())"
   ]
  },
  {
   "cell_type": "markdown",
   "metadata": {},
   "source": [
    "### 深さ優先探索(dfs)\n",
    "#### 部分和問題\n",
    "整数 $a_1, a_2, ..., a_n$ が与えられたとき、その中からいくつか選び、その環を丁度kにすることができるかどうかを判定する。\n",
    "\n",
    "- 制約\n",
    "    - $1 \\leq n \\leq 20$\n",
    "    - $-10^8 \\leq a_i \\leq 10^8$\n",
    "    - $-10^8 \\leq k \\leq 10^8$\n"
   ]
  },
  {
   "cell_type": "code",
   "execution_count": 41,
   "metadata": {},
   "outputs": [
    {
     "name": "stdout",
     "output_type": "stream",
     "text": [
      "Yes\n"
     ]
    },
    {
     "ename": "SystemExit",
     "evalue": "",
     "output_type": "error",
     "traceback": [
      "An exception has occurred, use %tb to see the full traceback.\n",
      "\u001b[0;31mSystemExit\u001b[0m\n"
     ]
    }
   ],
   "source": [
    "# ビット全探索で解く\n",
    "from sys import exit\n",
    "\n",
    "# 組み合わせ\n",
    "def dfs(n, a, k):\n",
    "    for i in range(2**n):\n",
    "        ans = 0\n",
    "        for idx, num in enumerate(a):\n",
    "            if i >> idx & 1:\n",
    "                ans += num\n",
    "        \n",
    "        if ans == k:\n",
    "            print(\"Yes\")\n",
    "            exit()\n",
    "\n",
    "    print(\"No\")\n",
    "\n",
    "dfs(4, (1,2,4,7), 13)"
   ]
  },
  {
   "cell_type": "code",
   "execution_count": null,
   "metadata": {},
   "outputs": [
    {
     "ename": "Error",
     "evalue": "Canceled future for execute_request message before replies were done",
     "output_type": "error",
     "traceback": [
      "Error: Canceled future for execute_request message before replies were done",
      "at t.KernelShellFutureHandler.dispose (/Users/intel0tw5727/.vscode/extensions/ms-toolsai.jupyter-2022.3.1000901801/out/extension.js:2:1204175)",
      "at /Users/intel0tw5727/.vscode/extensions/ms-toolsai.jupyter-2022.3.1000901801/out/extension.js:2:1223227",
      "at Map.forEach (<anonymous>)",
      "at v._clearKernelState (/Users/intel0tw5727/.vscode/extensions/ms-toolsai.jupyter-2022.3.1000901801/out/extension.js:2:1223212)",
      "at v.dispose (/Users/intel0tw5727/.vscode/extensions/ms-toolsai.jupyter-2022.3.1000901801/out/extension.js:2:1216694)",
      "at /Users/intel0tw5727/.vscode/extensions/ms-toolsai.jupyter-2022.3.1000901801/out/extension.js:2:533674",
      "at t.swallowExceptions (/Users/intel0tw5727/.vscode/extensions/ms-toolsai.jupyter-2022.3.1000901801/out/extension.js:2:913059)",
      "at dispose (/Users/intel0tw5727/.vscode/extensions/ms-toolsai.jupyter-2022.3.1000901801/out/extension.js:2:533652)",
      "at t.RawSession.dispose (/Users/intel0tw5727/.vscode/extensions/ms-toolsai.jupyter-2022.3.1000901801/out/extension.js:2:537330)",
      "at runMicrotasks (<anonymous>)",
      "at processTicksAndRejections (node:internal/process/task_queues:96:5)"
     ]
    }
   ],
   "source": [
    "from sys import exit, stdin, setrecursionlimit\n",
    "setrecursionlimit(10**5)\n",
    "\n",
    "# 深さ優先探索で解く(再帰関数でやる場合。このコードだとカーネルが死ぬ)\n",
    "\n",
    "n = 4, \n",
    "a = (1,2,4,7)\n",
    "k = 13\n",
    "\n",
    "def dfs(i, ans):\n",
    "    # n個設定したら合計値を計算\n",
    "    if (i == n): return ans == k\n",
    "    # a[i]を使わないケース\n",
    "    if dfs(i + 1, ans): return True\n",
    "    if dfs(i + 1, ans + a[i]): return True\n",
    "\n",
    "    return False\n",
    "\n",
    "print(dfs(0,0))"
   ]
  },
  {
   "cell_type": "code",
   "execution_count": null,
   "metadata": {},
   "outputs": [],
   "source": [
    "from collections import deque\n",
    "\n",
    "n = 4, \n",
    "a = (1,2,4,7)\n",
    "k = 13\n",
    "\n",
    "d = deque([])\n"
   ]
  }
 ],
 "metadata": {
  "interpreter": {
   "hash": "6d7c7476a11027bf0fbd4353b20ae9cfdb87a15e00d9384a52728c845346afe6"
  },
  "kernelspec": {
   "display_name": "Python 3.8.2 64-bit ('3.8.2')",
   "language": "python",
   "name": "python3"
  },
  "language_info": {
   "codemirror_mode": {
    "name": "ipython",
    "version": 3
   },
   "file_extension": ".py",
   "mimetype": "text/x-python",
   "name": "python",
   "nbconvert_exporter": "python",
   "pygments_lexer": "ipython3",
   "version": "3.8.2"
  },
  "orig_nbformat": 4
 },
 "nbformat": 4,
 "nbformat_minor": 2
}
